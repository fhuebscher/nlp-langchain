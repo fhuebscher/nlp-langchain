{
 "cells": [
  {
   "cell_type": "code",
   "execution_count": 19,
   "metadata": {
    "colab": {
     "base_uri": "https://localhost:8080/"
    },
    "executionInfo": {
     "elapsed": 1836,
     "status": "ok",
     "timestamp": 1683439625177,
     "user": {
      "displayName": "Till Schirrmeister",
      "userId": "11257548569376154145"
     },
     "user_tz": -600
    },
    "id": "x8d-N-gRcjBG",
    "outputId": "c6b5960a-f7e5-46d3-b466-fb875772c68c"
   },
   "outputs": [
    {
     "data": {
      "text/plain": [
       "\"FAQs | University of Technology Sydney                Skip to main content          Staff   International   Alumni   News   Library   Contact us       Show menu Close   UTS  Show search      Search entire site   Search for a course   Browse study areas        Please enter search terms.              Find a course            Analytics and Data Science  Data Science and Innovation Postgraduate Research Courses    Business  Accounting Business Research Programs Economics Finance Management Marketing Undergraduate Business Programs Entrepreneurship MBA Programs Postgraduate Business Programs    Communication  Animation Production Business Consulting and Technology Implementation Digital and Social Media Journalism and Sports Media Media Arts and Production Media Business Media Practice and Industry Music and  Sound Design Social and Political Sciences Strategic Communication Writing and Publishing Postgraduate Communication Research Degrees    Design, Architecture and Building  Architecture Built Environment DAB Research Design Design Innovation Public Policy and Governance    Education  Secondary Education TESOL Education (Learning and Leadership) Learning Design Postgraduate Education Research Degrees    Engineering  Biomedical Civil and Environmental Computer Systems and Software Electrical Engineering Management Mechanical and Mechatronic Systems and Operations Telecommunications Postgraduate Engineering courses Undergraduate Engineering courses    Health  Midwifery Sport and Exercise Child and Family Health Health (Postgraduate) Health Science Health Services Management Nursing (Postgraduate) Nursing (Undergraduate) Palliative Care Public Health Research and Honours Women's and Children's Health    Health (GEM)  Coursework Degrees Clinical Psychology Genetic Counselling Good Manufacturing Practice Orthoptics Pharmacy Physiotherapy Psychology Speech Pathology Research Degrees    Information Technology  Business Analysis and Information Systems Computer Science, Data Analytics/Mining Games, Graphics and Multimedia IT Management and Leadership Networking and Security Software Development and Programming Systems Design and Analysis Web and Cloud Computing Postgraduate IT courses Postgraduate IT online courses Undergraduate Information Technology courses    International Studies  Criminology International Studies Languages Postgraduate International Studies Research Degrees Sustainability and Environment    Law  Intellectual Property Juris Doctor Legal Studies Master of Laws Practical Legal Training Migration Law and Practice Overseas Qualified Lawyers Postgraduate Law Programs Postgraduate Law Research Undergraduate Law Programs    Science  Life Sciences Mathematical and Physical Sciences Postgraduate Science Programs Science Research Programs Undergraduate Science Programs    Transdisciplinary Innovation  Creative Intelligence and Innovation Data Science and Innovation Diploma in Innovation Transdisciplinary Learning Postgraduate Research Degree               Study     Find a course   Analytics and Data Science   Business   Communication   Design, Architecture and Building   Education   Engineering   Health   Health (GEM)   Information Technology   International Studies and Social Sciences   Law   Science and Mathematics   Transdisciplinary Innovation     Information for   Undergraduate students   Postgraduate students   Graduate research students   Studying online   Industry and business   Short course and microcredential participants   Indigenous Australians   Students with accessibility requirements   International students         Current students     Managing your course   Your enrolment   Fees and payment   Your student info   Classes and assessment   Graduation   Graduate research students     Opportunities   Scholarships, prizes and awards   Global opportunities   Community and leadership programs   Career development   Work opportunities     Support   Accessibility service   Academic support   Accommodation   Health and wellbeing   Financial help   When things go wrong     Studying from home   Supporting study portal   Activities and social events   Clubs and societies   UTS Library         Research and teaching     Our research   Explore our research   Our approach   Research centres   Research excellence and support   Find a UTS expert     Graduate research   Future research students   New research students   Current research students   Supervisors   Industry engagement programs     Learning and teaching   learning.futures   UTS model of learning   Learning and Teaching Grants   Awards and citations     Partner with us   Our capabilities   How to partner with us   Commercialisation and IP   Research careers         Partners and community     Working with UTS   Partner with us   Recruit our Talent   Develop your staff     Community   Alumni and supporters   UTS Gallery and Art Collection   Venues and facilities   Signature events     Initiatives   Innovation and entrepreneurship   Indigenous education and employment   Indigenous Residential College   Internationalisation   Social justice   Sustainability   Respect.Now.Always.                Study   Find a course   Analytics and Data Science   Business   Communication   Design, Architecture and Building   Education   Engineering   Health   Health (GEM)   Information Technology   International Studies and Social Sciences   Law   Science and Mathematics   Transdisciplinary Innovation     Information for   Undergraduate students   Postgraduate students   Graduate research students   Studying online   Industry and business   Short course and microcredential participants   Indigenous Australians   Students with accessibility requirements   International students       Current students   Managing your course   Your enrolment   Fees and payment   Your student info   Classes and assessment   Graduation   Graduate research students     Opportunities   Scholarships, prizes and awards   Global opportunities   Community and leadership programs   Career development   Work opportunities     Support   Accessibility service   Academic support   Accommodation   Health and wellbeing   Financial help   When things go wrong     Studying from home   Supporting study portal   Activities and social events   Clubs and societies   UTS Library       Research and teaching   Our research   Explore our research   Our approach   Research centres   Research excellence and support   Find a UTS expert     Graduate research   Future research students   New research students   Current research students   Supervisors   Industry engagement programs     Learning and teaching   learning.futures   UTS model of learning   Learning and Teaching Grants   Awards and citations     Partner with us   Our capabilities   How to partner with us   Commercialisation and IP   Research careers       Partners and community   Working with UTS   Partner with us   Recruit our Talent   Develop your staff     Community   Alumni and supporters   UTS Gallery and Art Collection   Venues and facilities   Signature events     Initiatives   Innovation and entrepreneurship   Indigenous education and employment   Indigenous Residential College   Internationalisation   Social justice   Sustainability   Respect.Now.Always.           Quick links   Staff   International   Alumni   News   Library   Contact us             Home   Study   Transdisciplinary Innovation  FAQs                        Data Science and Innovation    Overview   Why choose the MDSI?   Events   Career options   Student experience   Industry partnerships and engagement   FAQs   Make an enquiry   Apply Now      Data Science and Innovation     Overview   Why choose the MDSI?   Events   Career options   Student experience   Industry partnerships and engagement   FAQs   Make an enquiry   Apply Now             FAQs       Find answers to your questions about Data Science and Innovation at UTS.       Am I eligible?  To be eligible for the Master of Data Science and Innovation, applicants must have completed a UTS-recognised bachelors degree, or an equivalent or higher qualification, or submitted other evidence of general and professional qualifications that demonstrates potential to pursue graduate studies. The bachelor degree or higher qualification should be in a relevant discipline, such as mathematical sciences, computer science, physics and astronomy, engineering, accounting, banking, finance and related fields or economics and econometrics. If your qualification is not in a relevant discipline, you must provide detailed evidence in your CV of prior learning and/or work experience, demonstrating your knowledge with basic quantitative data skills, key mathematical concepts and programming experience. Applicants with other qualifications may be considered on the basis of general and professional qualifications that demonstrate their potential in the Master of Data Science and Innovation. For full admission requirements, check the admission requirements in the additional information section of the Master of Data Science and Innovation course page.  Do I need maths, programming, coding and stats?  Basic stats and quantitative skills (comfortable using spreadsheets, for example) are treated as assumed knowledge for the course. If you feel that your quantitative stats skills aren’t up to speed, we recommend taking a bridging course or using one of your electives to do a stats subject in your first semester. Knowledge of a programming language would be an advantage but is not essential.  What will I be taught?  Areas covered include the core data science skills such as statistics, machine learning and visualisation. The course also includes a number of non-traditional areas covering the social and ethical aspects of the profession, as well as the creative elements of data science such as dealing with ambiguity and problem formulation. An important aspect of the course is that students are given many opportunities to work on real data challenges through their iLab projects and subject assessments.  How much will it cost?  You can find out more about what course fees by using the UTS course fee calculator tool for domestic students. To use the calculator, choose: 'search for fees by course'. fee type 'Postgraduate Domestic Coursework' fee year 2021 cohort 2021 course area ‘Transdisciplinary Innovation’ course code ‘C04372’ To calculate the total cost of the course, multiply the 'Total CP' by the ‘Fee per CP'. Note: Commonwealth supported places are not available for MDSI. Already completed a UTS degree? If you've already completed a degree at UTS, then you're eligible for the Alumni Advantage program, which offers a 10 per cent savings on full fee-paying degree programs. Find out if you're eligible at Alumni Advantage.  FEE-HELP  If you do have to pay a fee and you’re a local student, you may be eligible for FEE-HELP, an Australian Government loan scheme. Using FEE-HELP means you don’t have to pay for your tuition fees up front. More information can be found at uts.edu.au/government-help-schemes. You can choose to repay your FEE-HELP loan simply by notifying your employer who will then withhold your payments through the PAYG tax system. You can also make payments directly to the Australian Taxation Office (ATO). If you’re an international student, head to uts.edu.au/international to find the course information, fees and application details relevant to you.  How is the MDSI different from online, MOOCs or other data science degrees?  The MDSI is unique in its approach and feel. It’s a postgraduate degree specifically designed to allow you to make professional connections with industry partners and hone your data skills with our experienced academic team. Our point of difference is our commitment to innovation, creative problem solving and ethically minded data science practice.\\xa0 In a world of explosive data potential, the ability to think and work systematically, ethically and creatively is highly valued by employers. Data science is a collaborative discipline. Students in the MDSI program get hands-on experience working in teams to solve real-life data science problems. The MDSI program is structured in a way that helps students learn this crucial skill.\\xa0 Another important aspect of data science is that it is a rapidly evolving field. A data scientist must therefore be able to stay current with developments in the field. The MDSI program, with its emphasis on critical self-learning, prepares students to be lifelong learners.  What career opportunities are available to MDSI graduates?  Read all about the career options available to MDSI graduates on our career options page.  How long does it take?  MDSI can be as flexible as you make it. You can choose how fast you go through the degree based on the number of subjects you wish to take on in any given semester and you have 5.5 years to finish your degree. The only requirement is that you must be doing at least one subject in your first semester.  Can I study part-time?  This course is offered on a two-year, full-time or four-year, part-time basis — dependent on the number of subjects undertaken each session — with intakes in both Autumn and Spring session each year.  When are classes held?  Classes are usually held after 6.00pm on weekdays and all-day Saturdays. They’re also not held every week, so a typical subject may have three evenings (6-9pm) and two Saturday session (9am-5pm) over the semester. A full-time load is three subjects, so it is possible to schedule class around full-time work. What students usually find the most challenging is finding time for assessments and other pre-class work, which is often why students elect to study part-time. To understand what your study schedule may look like, check out the UTS class timetable builder. You will find a list of the course subjects in the UTS Handbook under course program.  What is the course structure?  Student must complete 96 credit points (cp), comprising 44cp core subjects, 32cp specified data science related optional subjects and 20cp elective subjects. Elective subjects can be selected from data science related subjects and from across the University’s disciplines. Enrolment in subjects from other disciplines is dependent on approval from the subject coordinator of the host faculty, and usually requires demonstrated ability to meet pre-requisites. This flexible course structure enables students to pursue their own particular interests and career aspirations. For more detailed information on the course structure and each of the subjects, visit our UTS Handbook. 96cp = 44cp core subjects + 32cp optional subjects + 20cp elective subjects  What is the teaching style?  MDSI is delivered via a blended mode, which means there are classes held on campus, where students get the opportunity to network and learn from renowned academics. Students are also expected to use online content outside of class to carry on working both independently and collaboratively.  How do I apply?  Find out more about the application process and everything else you need to know on our how to apply page.  Can I complete this course in a shorter amount of time?   To complete the Master of Data Science and Innovation, it takes two-years, full-time or four year, part-time. Data science is a complex field and requires diverse knowledge and skillsets to become a well-rounded data practitioner. Students will complete 96 credit points (cp), comprising 44cp core subjects, 32cp specified data science related optional subjects and 20cp elective subjects. However, if you are not quite ready to commit to the full masters, we do offer a range of flexible study options: Graduate Certificate in Data Science and Innovation Graduate Diploma in Data Science and Innovation, and two new microcredentials: \\tApplied Data Science for Innovation Advanced Data Science for Innovation  Successful completion of our microcredentials can count as 4cp towards the MDSI.  Can I get recognition of prior learning?  A maximum of 32cp exemptions may be granted for the course with a maximum of 12cp being unspecified subjects. Exemptions are granted only on the basis of prior postgraduate study at an Australian university, or at a recognised overseas institution deemed to be equivalent to an Australian university. To be eligible for recognition of prior learning, the subject being considered for prior study must have been completed within five years of commencing the course. Recognition of study completed before this period is not considered. To apply for recognition of prior learning, follow the steps on how to apply for UTS recognition of prior learning.                    Acknowledgement of Country UTS acknowledges the Gadigal people of the Eora Nation, the Boorooberongal people of the Dharug Nation,               the Bidiagal people and the Gamaygal people, upon whose ancestral lands our university stands. We would               also like to pay respect to the Elders both past and present, acknowledging them as the traditional               custodians of knowledge for these lands.                About UTS   The University   Campus maps   UTS governance   Faculties   Privacy   Accessibility   Disclaimer     Library   Search catalogue   Library hours   Book a library room   Library contacts     News   Events   Find an expert   Media centre     Staff   Staff Connect   Webmail   Staff Directory   Jobs at UTS            Contact us Student and public enquiries        Facebook   Twitter   Instagram   Youtube   Linkedin         © Copyright UTS - CRICOS Provider No: 00099F - TEQSA Provider ID: PRV12060 - TEQSA Category: Australian University - ABN: 77 257 686 961 - 24 February 2023 03:48 PM. The page is authorised by the Chief Operating Officer and Vice-President (COO).\""
      ]
     },
     "execution_count": 19,
     "metadata": {},
     "output_type": "execute_result"
    }
   ],
   "source": [
    "import requests\n",
    "from bs4 import BeautifulSoup\n",
    "\n",
    "# UTS FAQ data\n",
    "url = \"https://www.uts.edu.au/study/transdisciplinary-innovation/master-data-science-and-innovation/faqs\"\n",
    "\n",
    "# Get HTML content\n",
    "response = requests.get(url)\n",
    "html_content = response.content\n",
    "\n",
    "# Basic Parsing of HTML content using bs4\n",
    "soup = BeautifulSoup(html_content, 'html.parser')\n",
    "text = soup.get_text()\n",
    "text.replace(\"\\n\",\" \").strip()"
   ]
  },
  {
   "cell_type": "code",
   "execution_count": null,
   "metadata": {
    "colab": {
     "base_uri": "https://localhost:8080/"
    },
    "executionInfo": {
     "elapsed": 19669,
     "status": "ok",
     "timestamp": 1683439000442,
     "user": {
      "displayName": "Till Schirrmeister",
      "userId": "11257548569376154145"
     },
     "user_tz": -600
    },
    "id": "KBthmwlGyAmH",
    "outputId": "9141f91f-b6a5-41c4-c322-7e20452fe616"
   },
   "outputs": [
    {
     "name": "stdout",
     "output_type": "stream",
     "text": [
      "Mounted at /content/drive\n"
     ]
    }
   ],
   "source": [
    "from google.colab import drive\n",
    "drive.mount('/content/drive')"
   ]
  },
  {
   "cell_type": "code",
   "execution_count": null,
   "metadata": {
    "id": "LEgFFcaVxycb"
   },
   "outputs": [],
   "source": [
    "with open('/content/drive/Shareddrives/NLP-40428/all_text.txt', 'r') as file:\n",
    "    # Read the contents of the file\n",
    "    text = file.read()"
   ]
  },
  {
   "cell_type": "code",
   "execution_count": null,
   "metadata": {
    "colab": {
     "base_uri": "https://localhost:8080/"
    },
    "executionInfo": {
     "elapsed": 9268,
     "status": "ok",
     "timestamp": 1683439284967,
     "user": {
      "displayName": "Till Schirrmeister",
      "userId": "11257548569376154145"
     },
     "user_tz": -600
    },
    "id": "eeB9PFUGy-C2",
    "outputId": "c958797c-c112-46f8-d049-efdd1e946627"
   },
   "outputs": [
    {
     "name": "stderr",
     "output_type": "stream",
     "text": [
      "IOPub data rate exceeded.\n",
      "The notebook server will temporarily stop sending output\n",
      "to the client in order to avoid crashing it.\n",
      "To change this limit, set the config variable\n",
      "`--NotebookApp.iopub_data_rate_limit`.\n",
      "\n",
      "Current values:\n",
      "NotebookApp.iopub_data_rate_limit=1000000.0 (bytes/sec)\n",
      "NotebookApp.rate_limit_window=3.0 (secs)\n",
      "\n"
     ]
    }
   ],
   "source": [
    "lines = text.split('\\n')\n",
    "\n",
    "# Loop through the lines and remove any paragraphs that start and end with two lines\n",
    "output_text = \"\"\n",
    "i = 0\n",
    "while i < len(lines):\n",
    "    if i+3 < len(lines) and lines[i].strip() == \"\" and lines[i+1].strip() == \"\" and lines[i+2].strip() != \"\" and lines[i+3].strip() == \"\":\n",
    "        # Skip the four lines that make up the paragraph\n",
    "        i += 4\n",
    "    else:\n",
    "        # Write the line to the output variable\n",
    "        output_text += lines[i] + '\\n'\n",
    "        i += 1\n",
    "\n",
    "print(output_text)"
   ]
  },
  {
   "cell_type": "code",
   "execution_count": null,
   "metadata": {
    "colab": {
     "base_uri": "https://localhost:8080/"
    },
    "executionInfo": {
     "elapsed": 4538,
     "status": "ok",
     "timestamp": 1683439325211,
     "user": {
      "displayName": "Till Schirrmeister",
      "userId": "11257548569376154145"
     },
     "user_tz": -600
    },
    "id": "gKYqte9FdDed",
    "outputId": "63756a7a-26ba-4284-8a2e-a46c79083028"
   },
   "outputs": [
    {
     "name": "stderr",
     "output_type": "stream",
     "text": [
      "IOPub data rate exceeded.\n",
      "The notebook server will temporarily stop sending output\n",
      "to the client in order to avoid crashing it.\n",
      "To change this limit, set the config variable\n",
      "`--NotebookApp.iopub_data_rate_limit`.\n",
      "\n",
      "Current values:\n",
      "NotebookApp.iopub_data_rate_limit=1000000.0 (bytes/sec)\n",
      "NotebookApp.rate_limit_window=3.0 (secs)\n",
      "\n"
     ]
    }
   ],
   "source": [
    "# Preprocess crawled data\n",
    "output_text = output_text.replace('\\n', ' ')\n",
    "output_text = output_text.replace('|', '')\n",
    "output_text = ' '.join(output_text.split())\n",
    "\n",
    "print(output_text)\n"
   ]
  },
  {
   "cell_type": "code",
   "execution_count": null,
   "metadata": {
    "id": "0xk3S-BVdszl"
   },
   "outputs": [],
   "source": [
    "# Save cleaned output to file\n",
    "with open('DSMaster.txt', 'w') as file:\n",
    "    file.write(output_text)"
   ]
  }
 ],
 "metadata": {
  "colab": {
   "authorship_tag": "ABX9TyM/V/TLSyJxE6xNJSCDPry7",
   "provenance": []
  },
  "kernelspec": {
   "display_name": "Python 3 (ipykernel)",
   "language": "python",
   "name": "python3"
  },
  "language_info": {
   "codemirror_mode": {
    "name": "ipython",
    "version": 3
   },
   "file_extension": ".py",
   "mimetype": "text/x-python",
   "name": "python",
   "nbconvert_exporter": "python",
   "pygments_lexer": "ipython3",
   "version": "3.8.13"
  }
 },
 "nbformat": 4,
 "nbformat_minor": 1
}
